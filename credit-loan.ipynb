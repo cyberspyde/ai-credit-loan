{
 "cells": [
  {
   "cell_type": "code",
   "execution_count": 1,
   "id": "14386ee9-6017-4377-8371-b8c5b2cbad47",
   "metadata": {},
   "outputs": [
    {
     "name": "stdout",
     "output_type": "stream",
     "text": [
      "Mean Absolute Error: 3360.0\n",
      "Predicted Loan Amount: 23370.0\n"
     ]
    }
   ],
   "source": [
    "import pandas as pd\n",
    "from sklearn.model_selection import train_test_split\n",
    "from sklearn.ensemble import RandomForestRegressor\n",
    "from sklearn.metrics import mean_absolute_error\n",
    "\n",
    "# Example data: Creditworthiness in monetary terms\n",
    "data = {\n",
    "    \"location\": [1, 2, 1, 3, 2],       # Encoded location (1=urban, 2=suburban, 3=rural)\n",
    "    \"passport_valid\": [1, 0, 1, 1, 0], # 1 = valid, 0 = invalid\n",
    "    \"debts\": [2000, 5000, 1000, 3000, 7000], # Current debts\n",
    "    \"income\": [5000, 2000, 6000, 4000, 1500], # Monthly income\n",
    "    \"loan_amount\": [20000, 5000, 30000, 15000, 2000], # Credit limit/loan prediction\n",
    "}\n",
    "\n",
    "# Convert data to DataFrame\n",
    "df = pd.DataFrame(data)\n",
    "\n",
    "# Split into features (X) and target (y)\n",
    "X = df.drop(columns=[\"loan_amount\"])  # Features\n",
    "y = df[\"loan_amount\"]                 # Target: Loan Amount\n",
    "\n",
    "# Split data into training and test sets\n",
    "X_train, X_test, y_train, y_test = train_test_split(X, y, test_size=0.2, random_state=42)\n",
    "\n",
    "# Train a regression model\n",
    "model = RandomForestRegressor(random_state=42)\n",
    "model.fit(X_train, y_train)\n",
    "\n",
    "# Predict and evaluate\n",
    "y_pred = model.predict(X_test)\n",
    "print(\"Mean Absolute Error:\", mean_absolute_error(y_test, y_pred))\n",
    "\n",
    "# Example: Predict loan amount for a new user\n",
    "new_user = {\"location\": 1, \"passport_valid\": 1, \"debts\": 1500, \"income\": 5000}\n",
    "new_user_df = pd.DataFrame([new_user])\n",
    "predicted_loan_amount = model.predict(new_user_df)[0]\n",
    "print(\"Predicted Loan Amount:\", predicted_loan_amount)\n"
   ]
  },
  {
   "cell_type": "code",
   "execution_count": 2,
   "id": "93707703-e085-4e6c-9b16-ee7521d4c860",
   "metadata": {},
   "outputs": [
    {
     "name": "stdout",
     "output_type": "stream",
     "text": [
      "Down Payment: 4674.0\n",
      "Monthly Installment: 1558.0\n"
     ]
    }
   ],
   "source": [
    "# Define installment parameters\n",
    "installment_months = 12\n",
    "down_payment_rate = 0.2  # 20% down payment\n",
    "\n",
    "# Calculate\n",
    "monthly_installment = (predicted_loan_amount * (1 - down_payment_rate)) / installment_months\n",
    "down_payment = predicted_loan_amount * down_payment_rate\n",
    "\n",
    "print(\"Down Payment:\", down_payment)\n",
    "print(\"Monthly Installment:\", monthly_installment)"
   ]
  },
  {
   "cell_type": "code",
   "execution_count": 3,
   "id": "36c5ee86-4de1-4fb0-876b-87c839c215ff",
   "metadata": {},
   "outputs": [
    {
     "data": {
      "text/plain": [
       "np.float64(20320.0)"
      ]
     },
     "execution_count": 3,
     "metadata": {},
     "output_type": "execute_result"
    }
   ],
   "source": [
    "ahmat = {\"location\": 3, \"passport_valid\": 1, \"debts\": 1500, \"income\": 5000}\n",
    "ahmat_df = pd.DataFrame([ahmat])\n",
    "predicted_loan_amount = model.predict(ahmat_df)[0]\n",
    "predicted_loan_amount"
   ]
  },
  {
   "cell_type": "code",
   "execution_count": 6,
   "id": "31096513-a10e-47c2-9fd7-81e184f4b7d9",
   "metadata": {},
   "outputs": [
    {
     "name": "stdout",
     "output_type": "stream",
     "text": [
      "20320.0\n"
     ]
    }
   ],
   "source": [
    "print(predicted_loan_amount)"
   ]
  },
  {
   "cell_type": "code",
   "execution_count": null,
   "id": "71d17e92-7f17-41ef-9cc2-6e37c81aff47",
   "metadata": {},
   "outputs": [],
   "source": []
  }
 ],
 "metadata": {
  "kernelspec": {
   "display_name": "Python 3 (ipykernel)",
   "language": "python",
   "name": "python3"
  },
  "language_info": {
   "codemirror_mode": {
    "name": "ipython",
    "version": 3
   },
   "file_extension": ".py",
   "mimetype": "text/x-python",
   "name": "python",
   "nbconvert_exporter": "python",
   "pygments_lexer": "ipython3",
   "version": "3.12.3"
  }
 },
 "nbformat": 4,
 "nbformat_minor": 5
}
